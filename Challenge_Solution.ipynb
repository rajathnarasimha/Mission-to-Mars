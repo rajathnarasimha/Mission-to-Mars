{
 "cells": [
  {
   "cell_type": "code",
   "execution_count": 1,
   "metadata": {},
   "outputs": [],
   "source": [
    "from splinter import Browser\n",
    "from bs4 import BeautifulSoup\n",
    "import urllib.request\n"
   ]
  },
  {
   "cell_type": "code",
   "execution_count": 2,
   "metadata": {},
   "outputs": [
    {
     "name": "stdout",
     "output_type": "stream",
     "text": [
      "/usr/local/bin/chromedriver\r\n"
     ]
    }
   ],
   "source": [
    "# Path to chromedriver\n",
    "!which chromedriver"
   ]
  },
  {
   "cell_type": "code",
   "execution_count": 7,
   "metadata": {},
   "outputs": [],
   "source": [
    "# Mac users\n",
    "executable_path = {'executable_path': '/usr/local/bin/chromedriver'}\n",
    "browser = Browser('chrome', **executable_path, headless=False)"
   ]
  },
  {
   "cell_type": "code",
   "execution_count": 8,
   "metadata": {},
   "outputs": [],
   "source": [
    "url = 'https://astrogeology.usgs.gov/search/results?q=hemisphere+enhanced&k1=target&v1=Mars'\n",
    "browser.visit(url)\n",
    "\n",
    "# Parse the HTML\n",
    "html = browser.html\n",
    "soup = BeautifulSoup(html, 'html.parser')"
   ]
  },
  {
   "cell_type": "code",
   "execution_count": 9,
   "metadata": {},
   "outputs": [
    {
     "name": "stdout",
     "output_type": "stream",
     "text": [
      "The titles of the mars hemispehers are: \n",
      "['Cerberus Hemisphere Enhanced', 'Schiaparelli Hemisphere Enhanced', 'Syrtis Major Hemisphere Enhanced', 'Valles Marineris Hemisphere Enhanced']\n",
      "\n",
      "The hemispheres links to get the full images: \n",
      "['https://astrogeology.usgs.gov/search/map/Mars/Viking/cerberus_enhanced', 'https://astrogeology.usgs.gov/search/map/Mars/Viking/schiaparelli_enhanced', 'https://astrogeology.usgs.gov/search/map/Mars/Viking/syrtis_major_enhanced', 'https://astrogeology.usgs.gov/search/map/Mars/Viking/valles_marineris_enhanced']\n",
      "\n",
      "\n",
      " The links for the hemispheres full images: \n",
      "['https://astrogeology.usgs.gov/cache/images/cfa62af2557222a02478f1fcd781d445_cerberus_enhanced.tif_full.jpg', 'https://astrogeology.usgs.gov/cache/images/3cdd1cbf5e0813bba925c9030d13b62e_schiaparelli_enhanced.tif_full.jpg', 'https://astrogeology.usgs.gov/cache/images/ae209b4e408bb6c3e67b6af38168cf28_syrtis_major_enhanced.tif_full.jpg', 'https://astrogeology.usgs.gov/cache/images/7cf2da4bf549ed01c17f206327be4db7_valles_marineris_enhanced.tif_full.jpg']\n",
      "\n",
      "The mars hemisphere names with image links: \n",
      "{'Cerberus Hemisphere Enhanced': 'https://astrogeology.usgs.gov/cache/images/cfa62af2557222a02478f1fcd781d445_cerberus_enhanced.tif_full.jpg', 'Schiaparelli Hemisphere Enhanced': 'https://astrogeology.usgs.gov/cache/images/3cdd1cbf5e0813bba925c9030d13b62e_schiaparelli_enhanced.tif_full.jpg', 'Syrtis Major Hemisphere Enhanced': 'https://astrogeology.usgs.gov/cache/images/ae209b4e408bb6c3e67b6af38168cf28_syrtis_major_enhanced.tif_full.jpg', 'Valles Marineris Hemisphere Enhanced': 'https://astrogeology.usgs.gov/cache/images/7cf2da4bf549ed01c17f206327be4db7_valles_marineris_enhanced.tif_full.jpg'}\n",
      "\n",
      "The list of hemisphere and its details: \n",
      "[('Cerberus Hemisphere Enhanced', 'https://astrogeology.usgs.gov/cache/images/cfa62af2557222a02478f1fcd781d445_cerberus_enhanced.tif_full.jpg'), ('Schiaparelli Hemisphere Enhanced', 'https://astrogeology.usgs.gov/cache/images/3cdd1cbf5e0813bba925c9030d13b62e_schiaparelli_enhanced.tif_full.jpg'), ('Syrtis Major Hemisphere Enhanced', 'https://astrogeology.usgs.gov/cache/images/ae209b4e408bb6c3e67b6af38168cf28_syrtis_major_enhanced.tif_full.jpg'), ('Valles Marineris Hemisphere Enhanced', 'https://astrogeology.usgs.gov/cache/images/7cf2da4bf549ed01c17f206327be4db7_valles_marineris_enhanced.tif_full.jpg')]\n",
      "\n"
     ]
    }
   ],
   "source": [
    "#Challenge Solution\n",
    "\n",
    "url = 'https://astrogeology.usgs.gov/search/results?q=hemisphere+enhanced&k1=target&v1=Mars'\n",
    "browser.visit(url)\n",
    "\n",
    "# Parse the HTML\n",
    "html = browser.html\n",
    "soup = BeautifulSoup(html, 'html.parser')\n",
    "\n",
    "section = soup.find('div', class_='collapsible results')\n",
    "items = section.find_all('div', class_='description')\n",
    "\n",
    "urls=[]\n",
    "titles=[]\n",
    "\n",
    "for item in items:\n",
    "    src = item.find_all('a')\n",
    "    for i in src:\n",
    "        urls.append(i.get('href'))\n",
    "        \n",
    "    title = item.find_all('h3')\n",
    "    for i in title:\n",
    "        titles.append(i.text)\n",
    "\n",
    "print(f\"The titles of the mars hemispehers are: \\n{titles}\\n\")\n",
    "\n",
    "img_urls=[]\n",
    "for url in urls:\n",
    "    img_urls.append('https://astrogeology.usgs.gov'+url)\n",
    "\n",
    "print(f\"The hemispheres links to get the full images: \\n{img_urls}\\n\")\n",
    "\n",
    "full_img_urls=[]\n",
    "for img_url in img_urls:\n",
    "    html_page = urllib.request.urlopen(img_url)\n",
    "    soup = BeautifulSoup(html_page, \"html.parser\")\n",
    "    section = soup.find('img', class_='wide-image')\n",
    "    img=section['src']\n",
    "    full_img_urls.append('https://astrogeology.usgs.gov' + img)\n",
    "    \n",
    "print(f\"\\n The links for the hemispheres full images: \\n{full_img_urls}\\n\")\n",
    "\n",
    "mars_hemisphere_dict={}\n",
    "for key in titles:\n",
    "    for value in full_img_urls:\n",
    "        mars_hemisphere_dict[key] = value\n",
    "        full_img_urls.remove(value)\n",
    "        break\n",
    "print(f\"The mars hemisphere names with image links: \\n{mars_hemisphere_dict}\\n\")\n",
    "\n",
    "\n",
    "mars_hemisphere_list=[]\n",
    "for key, value in mars_hemisphere_dict.items():\n",
    "    mars_hemisphere_list.append((key, value))\n",
    "    \n",
    "print(f\"The list of hemisphere and its details: \\n{mars_hemisphere_list}\\n\")"
   ]
  },
  {
   "cell_type": "code",
   "execution_count": null,
   "metadata": {},
   "outputs": [],
   "source": []
  }
 ],
 "metadata": {
  "kernelspec": {
   "display_name": "Python 3",
   "language": "python",
   "name": "python3"
  },
  "language_info": {
   "codemirror_mode": {
    "name": "ipython",
    "version": 3
   },
   "file_extension": ".py",
   "mimetype": "text/x-python",
   "name": "python",
   "nbconvert_exporter": "python",
   "pygments_lexer": "ipython3",
   "version": "3.7.4"
  }
 },
 "nbformat": 4,
 "nbformat_minor": 2
}
